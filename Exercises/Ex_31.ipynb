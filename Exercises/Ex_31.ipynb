{
  "nbformat": 4,
  "nbformat_minor": 0,
  "metadata": {
    "colab": {
      "provenance": []
    },
    "kernelspec": {
      "name": "python3",
      "display_name": "Python 3"
    },
    "language_info": {
      "name": "python"
    }
  },
  "cells": [
    {
      "cell_type": "markdown",
      "source": [
        "Wykorzystując funkcję train_test_split() z pakietu scikit-learn podziel dane (data oraz target) na zbiór treningowy i testowy, odpowiednio:\n",
        "\n",
        "zbiór treningowy: X_train, y_train\n",
        "\n",
        "zbiór testowy: X_test, y_test\n",
        "\n",
        "Ustaw argument random_state=40 oraz rozmiar zbioru testowego na 25%.\n",
        "\n",
        "\n",
        "\n",
        "W odpowiedzi wydrukuj rozmiary tablic: X_train, y_train, X_test, y_test tak jak pokazano poniżej."
      ],
      "metadata": {
        "id": "O-M8ee6-2tj7"
      }
    },
    {
      "cell_type": "code",
      "execution_count": 2,
      "metadata": {
        "colab": {
          "base_uri": "https://localhost:8080/"
        },
        "id": "xqx8sQ5v0ODy",
        "outputId": "c29bb49d-2fb8-4e41-8c4d-2a12a5271f7a"
      },
      "outputs": [
        {
          "output_type": "stream",
          "name": "stdout",
          "text": [
            "X_train shape (426, 30)\n",
            "y_train shape (426,)\n",
            "X_test shape (143, 30)\n",
            "y_test shape (143,)\n"
          ]
        }
      ],
      "source": [
        "import numpy as np\n",
        "import pandas as pd\n",
        "from sklearn.datasets import load_breast_cancer\n",
        "from sklearn.model_selection import train_test_split\n",
        "\n",
        "\n",
        "pd.set_option('display.max_columns', 10)\n",
        "pd.set_option('display.width', 200)\n",
        "np.set_printoptions(precision=2, suppress=True, linewidth=100)\n",
        "raw_data = load_breast_cancer()\n",
        "\n",
        "data = raw_data['data']\n",
        "target = raw_data['target']\n",
        "\n",
        "X_train, X_test, y_train, y_test = train_test_split(data,target,test_size =0.25,random_state =40)\n",
        "\n",
        "print(f'X_train shape {X_train.shape}')\n",
        "print(f'y_train shape {y_train.shape}')\n",
        "print(f'X_test shape {X_test.shape}')\n",
        "print(f'y_test shape {y_test.shape}')\n"
      ]
    },
    {
      "cell_type": "code",
      "source": [],
      "metadata": {
        "id": "tV3iPyck0Rtk"
      },
      "execution_count": null,
      "outputs": []
    }
  ]
}