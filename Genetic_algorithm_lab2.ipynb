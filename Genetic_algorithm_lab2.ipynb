{
  "nbformat": 4,
  "nbformat_minor": 0,
  "metadata": {
    "colab": {
      "provenance": [],
      "authorship_tag": "ABX9TyOCUMNVN1jDoAqZLnbsxruq",
      "include_colab_link": true
    },
    "kernelspec": {
      "name": "python3",
      "display_name": "Python 3"
    },
    "language_info": {
      "name": "python"
    }
  },
  "cells": [
    {
      "cell_type": "markdown",
      "metadata": {
        "id": "view-in-github",
        "colab_type": "text"
      },
      "source": [
        "<a href=\"https://colab.research.google.com/github/lukaszplust/Machine-Learning/blob/main/Genetic_algorithm_lab2.ipynb\" target=\"_parent\"><img src=\"https://colab.research.google.com/assets/colab-badge.svg\" alt=\"Open In Colab\"/></a>"
      ]
    },
    {
      "cell_type": "code",
      "execution_count": 10,
      "metadata": {
        "id": "EvMupggsIAVG"
      },
      "outputs": [],
      "source": [
        "from itertools import product, compress\n",
        "import time\n",
        "import pandas as pd\n",
        "from itertools import compress\n",
        "import random\n",
        "import time\n",
        "import matplotlib.pyplot as plt"
      ]
    },
    {
      "cell_type": "markdown",
      "source": [
        "data.py"
      ],
      "metadata": {
        "id": "3199-jTrIc3Z"
      }
    },
    {
      "cell_type": "code",
      "source": [
        "def get_small():\n",
        "    knapsack = pd.read_csv('knapsack-small.csv')\n",
        "    return knapsack, 10\n",
        "\n",
        "def get_big():\n",
        "    knapsack = pd.read_csv('knapsack-big.csv')\n",
        "    return knapsack, 6404180"
      ],
      "metadata": {
        "id": "4uzSMcCQIaJx"
      },
      "execution_count": 35,
      "outputs": []
    },
    {
      "cell_type": "code",
      "source": [
        "items, knapsack_max_capacity = get_small()\n",
        "print(items)\n",
        "print()\n",
        "print(knapsack_max_capacity)"
      ],
      "metadata": {
        "colab": {
          "base_uri": "https://localhost:8080/"
        },
        "id": "Ya4sQO3ftOL7",
        "outputId": "dec7da3f-b685-4e0d-944b-446ccacfc515"
      },
      "execution_count": 36,
      "outputs": [
        {
          "output_type": "stream",
          "name": "stdout",
          "text": [
            "     Name  Weight  Value\n",
            "0  Pearls       3      4\n",
            "1    Gold       7      7\n",
            "2   Crown       4      5\n",
            "3    Coin       1      1\n",
            "4     Axe       5      4\n",
            "5   Sword       4      3\n",
            "6    Ring       2      5\n",
            "7     Cup       3      1\n",
            "\n",
            "10\n"
          ]
        }
      ]
    },
    {
      "cell_type": "code",
      "source": [
        "#knapsack = pd.read_csv('knapsack-big.csv')\n",
        "#knapsack.shape"
      ],
      "metadata": {
        "id": "U_bzcw-nqc3Q"
      },
      "execution_count": 31,
      "outputs": []
    },
    {
      "cell_type": "code",
      "source": [
        "#knapsack = pd.read_csv('knapsack-small.csv')\n",
        "#knapsack.shape"
      ],
      "metadata": {
        "id": "RiPkXzZWqOOi"
      },
      "execution_count": 30,
      "outputs": []
    },
    {
      "cell_type": "markdown",
      "source": [
        "brute_force.py"
      ],
      "metadata": {
        "id": "YgfGSzsOIiLG"
      }
    },
    {
      "cell_type": "code",
      "source": [
        "def fitness(items, knapsack_max_capacity, solution):\n",
        "    total_weight = sum(compress(items['Weight'], solution))\n",
        "    if total_weight > knapsack_max_capacity:\n",
        "        return 0\n",
        "    return sum(compress(items['Value'], solution))\n",
        "\n",
        "#fitnnes zwroci sumę wartosci\n",
        "\n",
        "\n",
        "items, knapsack_max_capacity = get_small()\n",
        "#wywołanie funkcji get small\n",
        "\n",
        "# items zwroci zawartosc, a\n",
        "# knapsack_max_capacity = zwroci 10 przypisana w funkcji\n",
        "\n",
        "print(items)\n",
        "\n",
        "start_time = time.time() #obliczanie czasu funkcji\n",
        "best_solution = None\n",
        "best_value = 0\n",
        "#wszystkie mozliwe kombinacje wyboru elementu  (True - wybrane) False - nie wybrany\n",
        "#product generuje wszystkie mozliwe kombinacje elementów\n",
        "for solution in product([False, True], repeat=len(items)):\n",
        "    solution_value = fitness(items, knapsack_max_capacity, solution)\n",
        "    if solution_value > best_value:\n",
        "        best_solution = solution\n",
        "        best_value = solution_value\n",
        "end_time = time.time()\n",
        "total_time = end_time - start_time\n",
        "print('Best solution:', list(compress(items['Name'], best_solution)))\n",
        "print('Best solution value:', best_value)\n",
        "print('Time: ', total_time)"
      ],
      "metadata": {
        "colab": {
          "base_uri": "https://localhost:8080/"
        },
        "id": "JG69bdn6IkWr",
        "outputId": "e425f23d-81cd-40e9-88e8-2062995261a4"
      },
      "execution_count": 37,
      "outputs": [
        {
          "output_type": "stream",
          "name": "stdout",
          "text": [
            "     Name  Weight  Value\n",
            "0  Pearls       3      4\n",
            "1    Gold       7      7\n",
            "2   Crown       4      5\n",
            "3    Coin       1      1\n",
            "4     Axe       5      4\n",
            "5   Sword       4      3\n",
            "6    Ring       2      5\n",
            "7     Cup       3      1\n",
            "Best solution: ['Pearls', 'Crown', 'Coin', 'Ring']\n",
            "Best solution value: 15\n",
            "Time:  0.004256486892700195\n"
          ]
        }
      ]
    },
    {
      "cell_type": "markdown",
      "source": [
        "##Opis compress:\n",
        "\n",
        "Funkcja compress() wybiera tylko te elementy z jednej listy, które są \"skompresowane\" lub wybrane przez drugą listę, mającą wartości logiczne True lub False. Jeśli wartość w drugiej liście jest True, to odpowiadający jej element z pierwszej listy jest zachowywany, a jeśli False, to jest pomijany"
      ],
      "metadata": {
        "id": "qrZp0d510vJS"
      }
    },
    {
      "cell_type": "markdown",
      "source": [
        "## Test do crossover:"
      ],
      "metadata": {
        "id": "ZGI6zuWj7Zju"
      }
    },
    {
      "cell_type": "code",
      "source": [
        "#parent1 = [1, 2, 3, 4, 5]\n",
        "#parent2 = [6, 7, 8, 9, 10]\n",
        "#crossover_point = 2\n",
        "\n",
        "#child1 = parent1[:crossover_point] + parent2[crossover_point:]\n",
        "#print(child1)\n",
        "\n",
        "#print(\"--------------------\")\n",
        "#child2 = parent2[:crossover_point] + parent1[crossover_point:]\n",
        "#print(child2)"
      ],
      "metadata": {
        "id": "odxgfNZU7cbU"
      },
      "execution_count": 40,
      "outputs": []
    },
    {
      "cell_type": "markdown",
      "source": [
        "Crossover function"
      ],
      "metadata": {
        "id": "KdRXEOSz9fLc"
      }
    },
    {
      "cell_type": "code",
      "source": [
        "def crossover(parent1, parent2):\n",
        "  #losowy wybor punktu krzyzowania\n",
        "  crossover_point = random.randint(1, len(parent1) - 1)# ponieważ tablica iterowana jest od 0\n",
        "\n",
        "  child1 = parent1[:crossover_point] + parent2[crossover_point:]\n",
        "  #print(child1)\n",
        "\n",
        "  #print(\"--------------------\")\n",
        "  child2 = parent2[:crossover_point] + parent1[crossover_point:]\n",
        "  #print(child2)\n",
        "  return child1,child2"
      ],
      "metadata": {
        "id": "Sp8Hnx9s6cY-"
      },
      "execution_count": 41,
      "outputs": []
    },
    {
      "cell_type": "markdown",
      "source": [
        "Mutation function"
      ],
      "metadata": {
        "id": "u6ZRHttL9kwJ"
      }
    },
    {
      "cell_type": "code",
      "source": [
        "def mutation(individual, mutation_rate):\n",
        "  for i in range(individual):\n",
        "    #losowy wybór elementu wektora\n",
        "    if random.random() < mutation_rate:\n",
        "      #zastąpienie tego elementu jego negacją\n",
        "      individual[i] = not individual[i] #negacja\n",
        "  return individual"
      ],
      "metadata": {
        "id": "g_oTPXXW9hjj"
      },
      "execution_count": 42,
      "outputs": []
    },
    {
      "cell_type": "markdown",
      "source": [
        "Selection function\n",
        "\n",
        "Służy do wyboru najlepszych osobników z populacji na podstawie ich dopasowania (fitness)"
      ],
      "metadata": {
        "id": "vQkOIlQ6An_B"
      }
    },
    {
      "cell_type": "code",
      "source": [
        "def selection(items, knapsack_max_capacity, population, n_selection):\n",
        "\n",
        "    #population is the list of person which we would like to sort\n",
        "    # \"-\" before fitness mean that it would be (sorotwanie malejące XD) descending sort\n",
        "\n",
        "    #sorted sortuje na podstawie klucza - wartosc ich dopasowania w porządku malejącym\n",
        "    #return zwraca liczbę osobnikow posrtowana według wartosci ich dopasowania w porzadku malejacym\n",
        "    # key=lambda individual - klucz sortowania\n",
        "    return sorted(population, key=lambda individual: -fitness(items, knapsack_max_capacity, individual))"
      ],
      "metadata": {
        "id": "0p4EyAhfApDg"
      },
      "execution_count": 43,
      "outputs": []
    },
    {
      "cell_type": "markdown",
      "source": [
        "for_students.py"
      ],
      "metadata": {
        "id": "-uhycsMsIrKs"
      }
    },
    {
      "cell_type": "code",
      "source": [
        "# etap 1\n",
        "# tworzenie początkowej populacji rozwiązań\n",
        "def initial_population(individual_size, population_size):\n",
        "    # elementy w zbiorze dobiera się w sposob losowy\n",
        "    # Kod generuje listę populacji składającą się z osobników,\n",
        "    # gdzie każdy osobnik ma określoną liczbę losowo wybranych wartości logicznych True lub False.\n",
        "    # Proces ten jest powtarzany population_size razy.\n",
        "    return [[random.choice([True, False]) for _ in range(individual_size)] for _ in range(population_size)]\n",
        "\n",
        "def fitness(items, knapsack_max_capacity, individual):\n",
        "    #jesli w individual jest True to zostanie zachowane\n",
        "    total_weight = sum(compress(items['Weight'], individual))\n",
        "    if total_weight > knapsack_max_capacity:\n",
        "        return 0\n",
        "    return sum(compress(items['Value'], individual))\n",
        "\n",
        "def population_best(items, knapsack_max_capacity, population):\n",
        "    best_individual = None\n",
        "    best_individual_fitness = -1\n",
        "    for individual in population:\n",
        "        individual_fitness = fitness(items, knapsack_max_capacity, individual)\n",
        "        if individual_fitness > best_individual_fitness:\n",
        "            best_individual = individual\n",
        "            best_individual_fitness = individual_fitness\n",
        "    return best_individual, best_individual_fitness\n",
        "\n",
        "\n",
        "items, knapsack_max_capacity = get_big()\n",
        "print(items)\n",
        "\n",
        "population_size = 100\n",
        "generations = 200\n",
        "n_selection = 20\n",
        "n_elite = 1\n",
        "\n",
        "start_time = time.time()\n",
        "best_solution = None\n",
        "best_fitness = 0\n",
        "population_history = []\n",
        "best_history = []\n",
        "population = initial_population(len(items), population_size)\n",
        "for _ in range(generations):\n",
        "    population_history.append(population)\n",
        "\n",
        "    # TODO: implement genetic algorithm\n",
        "\n",
        "    best_individual, best_individual_fitness = population_best(items, knapsack_max_capacity, population)\n",
        "    if best_individual_fitness > best_fitness:\n",
        "        best_solution = best_individual\n",
        "        best_fitness = best_individual_fitness\n",
        "    best_history.append(best_fitness)\n",
        "\n",
        "end_time = time.time()\n",
        "total_time = end_time - start_time\n",
        "print('Best solution:', list(compress(items['Name'], best_solution)))\n",
        "print('Best solution value:', best_fitness)\n",
        "print('Time: ', total_time)\n",
        "\n",
        "# plot generations\n",
        "x = []\n",
        "y = []\n",
        "top_best = 10\n",
        "for i, population in enumerate(population_history):\n",
        "    plotted_individuals = min(len(population), top_best)\n",
        "    x.extend([i] * plotted_individuals)\n",
        "    population_fitnesses = [fitness(items, knapsack_max_capacity, individual) for individual in population]\n",
        "    population_fitnesses.sort(reverse=True)\n",
        "    y.extend(population_fitnesses[:plotted_individuals])\n",
        "plt.scatter(x, y, marker='.')\n",
        "plt.plot(best_history, 'r')\n",
        "plt.xlabel('Generation')\n",
        "plt.ylabel('Fitness')\n",
        "plt.show()"
      ],
      "metadata": {
        "colab": {
          "base_uri": "https://localhost:8080/",
          "height": 211
        },
        "id": "HBdaT15RIlvb",
        "outputId": "6736444c-2f29-4a85-c87a-f6b92363446c"
      },
      "execution_count": 2,
      "outputs": [
        {
          "output_type": "error",
          "ename": "NameError",
          "evalue": "name 'get_big' is not defined",
          "traceback": [
            "\u001b[0;31m---------------------------------------------------------------------------\u001b[0m",
            "\u001b[0;31mNameError\u001b[0m                                 Traceback (most recent call last)",
            "\u001b[0;32m<ipython-input-2-bb6f2f79be94>\u001b[0m in \u001b[0;36m<cell line: 21>\u001b[0;34m()\u001b[0m\n\u001b[1;32m     19\u001b[0m \u001b[0;34m\u001b[0m\u001b[0m\n\u001b[1;32m     20\u001b[0m \u001b[0;34m\u001b[0m\u001b[0m\n\u001b[0;32m---> 21\u001b[0;31m \u001b[0mitems\u001b[0m\u001b[0;34m,\u001b[0m \u001b[0mknapsack_max_capacity\u001b[0m \u001b[0;34m=\u001b[0m \u001b[0mget_big\u001b[0m\u001b[0;34m(\u001b[0m\u001b[0;34m)\u001b[0m\u001b[0;34m\u001b[0m\u001b[0;34m\u001b[0m\u001b[0m\n\u001b[0m\u001b[1;32m     22\u001b[0m \u001b[0mprint\u001b[0m\u001b[0;34m(\u001b[0m\u001b[0mitems\u001b[0m\u001b[0;34m)\u001b[0m\u001b[0;34m\u001b[0m\u001b[0;34m\u001b[0m\u001b[0m\n\u001b[1;32m     23\u001b[0m \u001b[0;34m\u001b[0m\u001b[0m\n",
            "\u001b[0;31mNameError\u001b[0m: name 'get_big' is not defined"
          ]
        }
      ]
    },
    {
      "cell_type": "code",
      "source": [],
      "metadata": {
        "id": "s7O5augWIwub"
      },
      "execution_count": null,
      "outputs": []
    }
  ]
}