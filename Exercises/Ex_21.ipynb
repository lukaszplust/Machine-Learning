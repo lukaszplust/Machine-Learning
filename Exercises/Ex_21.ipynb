{
  "nbformat": 4,
  "nbformat_minor": 0,
  "metadata": {
    "colab": {
      "provenance": []
    },
    "kernelspec": {
      "name": "python3",
      "display_name": "Python 3"
    },
    "language_info": {
      "name": "python"
    }
  },
  "cells": [
    {
      "cell_type": "markdown",
      "source": [
        "Zbuduj model regresji logistycznej (ustaw tylko argument max_iter=100, resztę pozostaw domyślnie) wykorzystując pakiet scikit-learn oraz dane IRIS.\n",
        "\n",
        "Model wytrenuj na danych treningowych i następnie dokonaj oceny modelu na zbiorze testowym."
      ],
      "metadata": {
        "id": "3cE8sb3Q22Kb"
      }
    },
    {
      "cell_type": "code",
      "execution_count": 2,
      "metadata": {
        "id": "pkigJ-lR2xon"
      },
      "outputs": [],
      "source": [
        "from sklearn.datasets import load_iris\n",
        "from sklearn.model_selection import train_test_split\n",
        "from sklearn.linear_model import LogisticRegression\n",
        "\n",
        "\n",
        "data_raw = load_iris()\n",
        "data = data_raw['data']\n",
        "target = data_raw['target']\n",
        "data_train, data_test, target_train, target_test = train_test_split(data, target, test_size=0.3, random_state=20)"
      ]
    },
    {
      "cell_type": "code",
      "source": [
        "#Logistic Regression Model\n",
        "LRM = LogisticRegression(max_iter=100).fit(data_train, target_train)#uzywam data_train i target_train do wytrenowania"
      ],
      "metadata": {
        "id": "n8uLK-LH2zcf"
      },
      "execution_count": 3,
      "outputs": []
    },
    {
      "cell_type": "code",
      "source": [
        "#okreslenie dokladnosci\n",
        "accuracy = LRM.score(data_test, target_test)#do okreslenia dokładnosci uzywam data_test i target_test"
      ],
      "metadata": {
        "id": "3BYcEusm32t0"
      },
      "execution_count": 4,
      "outputs": []
    },
    {
      "cell_type": "code",
      "source": [
        "print(round(accuracy,4))"
      ],
      "metadata": {
        "colab": {
          "base_uri": "https://localhost:8080/"
        },
        "id": "4Ls13aLu4LvH",
        "outputId": "3a83abe8-e1a9-454e-a32c-df6449643b35"
      },
      "execution_count": 6,
      "outputs": [
        {
          "output_type": "stream",
          "name": "stdout",
          "text": [
            "0.9333\n"
          ]
        }
      ]
    },
    {
      "cell_type": "code",
      "source": [],
      "metadata": {
        "id": "qdBEK_Ws4NKE"
      },
      "execution_count": null,
      "outputs": []
    }
  ]
}