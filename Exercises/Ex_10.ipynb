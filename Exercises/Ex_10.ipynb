{
  "nbformat": 4,
  "nbformat_minor": 0,
  "metadata": {
    "colab": {
      "provenance": []
    },
    "kernelspec": {
      "name": "python3",
      "display_name": "Python 3"
    },
    "language_info": {
      "name": "python"
    }
  },
  "cells": [
    {
      "cell_type": "markdown",
      "source": [
        "Dokonaj dyskretyzacji kolumny weight na 3 przedziały o zadanej postaci:\n",
        "\n",
        "(60, 75]\n",
        "\n",
        "(75, 80]\n",
        "\n",
        "(80, 95]\n",
        "\n",
        "oraz przypisz im odpowiednio etykiety:\n",
        "\n",
        "light\n",
        "\n",
        "normal\n",
        "\n",
        "heavy\n",
        "\n",
        "Wynik przypisz do nowej kolumny o nazwie 'weight_cut' tak jak pokazano poniżej. W odpowiedzi wydrukuj obiekt df do konsoli."
      ],
      "metadata": {
        "id": "bdnPMXY0Jo0v"
      }
    },
    {
      "cell_type": "code",
      "execution_count": 1,
      "metadata": {
        "id": "27G3UR6oJKQ0"
      },
      "outputs": [],
      "source": [
        "import pandas as pd\n",
        "\n",
        "\n",
        "df = pd.DataFrame(data={'weight': [75., 78.5, 85., 91., 84.5, 83., 68.]})"
      ]
    },
    {
      "cell_type": "code",
      "source": [
        "df['weight_cut'] = pd.cut(df['weight'], bins = (60,75,80,95),labels = [\"light\",\"normal\",\"heavy\"])"
      ],
      "metadata": {
        "id": "tZF5smzTJL3d"
      },
      "execution_count": 3,
      "outputs": []
    },
    {
      "cell_type": "code",
      "source": [
        "print(df)"
      ],
      "metadata": {
        "colab": {
          "base_uri": "https://localhost:8080/"
        },
        "id": "XnEp9rdTJxaZ",
        "outputId": "a5123480-46ee-4aa1-a89e-1ea6a50d5817"
      },
      "execution_count": 4,
      "outputs": [
        {
          "output_type": "stream",
          "name": "stdout",
          "text": [
            "   weight weight_cut\n",
            "0    75.0      light\n",
            "1    78.5     normal\n",
            "2    85.0      heavy\n",
            "3    91.0      heavy\n",
            "4    84.5      heavy\n",
            "5    83.0      heavy\n",
            "6    68.0      light\n"
          ]
        }
      ]
    },
    {
      "cell_type": "code",
      "source": [],
      "metadata": {
        "id": "yDNOEXtuKEo4"
      },
      "execution_count": null,
      "outputs": []
    }
  ]
}