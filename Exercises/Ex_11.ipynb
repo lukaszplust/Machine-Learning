{
  "nbformat": 4,
  "nbformat_minor": 0,
  "metadata": {
    "colab": {
      "provenance": []
    },
    "kernelspec": {
      "name": "python3",
      "display_name": "Python 3"
    },
    "language_info": {
      "name": "python"
    }
  },
  "cells": [
    {
      "cell_type": "markdown",
      "source": [
        "Dokonaj kodowania 0-1 obiektu df (dokładnie kolumny weight_cut) dzięki funkcji pd.get_dummies(). W odpowiedzi wynik kodowania wydrukuj do konsoli."
      ],
      "metadata": {
        "id": "5LxGPjJcLR4I"
      }
    },
    {
      "cell_type": "code",
      "execution_count": 6,
      "metadata": {
        "id": "YrpfeJi5K6vl"
      },
      "outputs": [],
      "source": [
        "import pandas as pd\n",
        "\n",
        "\n",
        "df = pd.DataFrame(\n",
        "    data={'weight': [75.0, 78.5, 85.0, 91.0, 84.5, 83.0, 68.0]}\n",
        ")\n",
        "df['weight_cut'] = pd.cut(\n",
        "    df['weight'],\n",
        "    bins=(60, 75, 80, 95),\n",
        "    labels=['light', 'normal', 'heavy'],\n",
        ")"
      ]
    },
    {
      "cell_type": "code",
      "source": [
        "df = pd.get_dummies(df)"
      ],
      "metadata": {
        "id": "H7TzbkHRLPbH"
      },
      "execution_count": 7,
      "outputs": []
    },
    {
      "cell_type": "code",
      "source": [
        "print(df)"
      ],
      "metadata": {
        "colab": {
          "base_uri": "https://localhost:8080/"
        },
        "id": "cc-kKBE5MGMH",
        "outputId": "ae473f16-b708-48dc-cc41-ddfa7ff97547"
      },
      "execution_count": 8,
      "outputs": [
        {
          "output_type": "stream",
          "name": "stdout",
          "text": [
            "   weight  weight_cut_light  weight_cut_normal  weight_cut_heavy\n",
            "0    75.0                 1                  0                 0\n",
            "1    78.5                 0                  1                 0\n",
            "2    85.0                 0                  0                 1\n",
            "3    91.0                 0                  0                 1\n",
            "4    84.5                 0                  0                 1\n",
            "5    83.0                 0                  0                 1\n",
            "6    68.0                 1                  0                 0\n"
          ]
        }
      ]
    },
    {
      "cell_type": "code",
      "source": [],
      "metadata": {
        "id": "NADiLkYyMhNI"
      },
      "execution_count": null,
      "outputs": []
    }
  ]
}