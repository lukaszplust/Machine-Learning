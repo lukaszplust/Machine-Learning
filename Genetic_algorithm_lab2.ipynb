{
  "nbformat": 4,
  "nbformat_minor": 0,
  "metadata": {
    "colab": {
      "provenance": [],
      "authorship_tag": "ABX9TyPU8ZfVY3LRYEO2Jt/vckuR",
      "include_colab_link": true
    },
    "kernelspec": {
      "name": "python3",
      "display_name": "Python 3"
    },
    "language_info": {
      "name": "python"
    }
  },
  "cells": [
    {
      "cell_type": "markdown",
      "metadata": {
        "id": "view-in-github",
        "colab_type": "text"
      },
      "source": [
        "<a href=\"https://colab.research.google.com/github/lukaszplust/Machine-Learning/blob/main/Genetic_algorithm_lab2.ipynb\" target=\"_parent\"><img src=\"https://colab.research.google.com/assets/colab-badge.svg\" alt=\"Open In Colab\"/></a>"
      ]
    },
    {
      "cell_type": "code",
      "execution_count": 1,
      "metadata": {
        "id": "EvMupggsIAVG"
      },
      "outputs": [],
      "source": [
        "from itertools import product, compress\n",
        "import time\n",
        "import pandas as pd\n",
        "from itertools import compress\n",
        "import random\n",
        "import time\n",
        "import matplotlib.pyplot as plt"
      ]
    },
    {
      "cell_type": "markdown",
      "source": [
        "data.py"
      ],
      "metadata": {
        "id": "3199-jTrIc3Z"
      }
    },
    {
      "cell_type": "code",
      "source": [
        "def get_small():\n",
        "    knapsack = pd.read_csv('knapsack-small.csv')\n",
        "    return knapsack, 10\n",
        "\n",
        "def get_big():\n",
        "    knapsack = pd.read_csv('knapsack-big.csv')\n",
        "    return knapsack, 6404180"
      ],
      "metadata": {
        "id": "4uzSMcCQIaJx"
      },
      "execution_count": 2,
      "outputs": []
    },
    {
      "cell_type": "code",
      "source": [
        "items, knapsack_max_capacity = get_small()\n",
        "print(items)\n",
        "print()\n",
        "print(knapsack_max_capacity)"
      ],
      "metadata": {
        "colab": {
          "base_uri": "https://localhost:8080/"
        },
        "id": "Ya4sQO3ftOL7",
        "outputId": "c602ad03-1424-4c25-9c91-5c326e878fe5"
      },
      "execution_count": 4,
      "outputs": [
        {
          "output_type": "stream",
          "name": "stdout",
          "text": [
            "     Name  Weight  Value\n",
            "0  Pearls       3      4\n",
            "1    Gold       7      7\n",
            "2   Crown       4      5\n",
            "3    Coin       1      1\n",
            "4     Axe       5      4\n",
            "5   Sword       4      3\n",
            "6    Ring       2      5\n",
            "7     Cup       3      1\n",
            "\n",
            "10\n"
          ]
        }
      ]
    },
    {
      "cell_type": "code",
      "source": [
        "#knapsack = pd.read_csv('knapsack-big.csv')\n",
        "#knapsack.shape"
      ],
      "metadata": {
        "id": "U_bzcw-nqc3Q"
      },
      "execution_count": 5,
      "outputs": []
    },
    {
      "cell_type": "code",
      "source": [
        "#knapsack = pd.read_csv('knapsack-small.csv')\n",
        "#knapsack.shape"
      ],
      "metadata": {
        "id": "RiPkXzZWqOOi"
      },
      "execution_count": 6,
      "outputs": []
    },
    {
      "cell_type": "markdown",
      "source": [
        "brute_force.py"
      ],
      "metadata": {
        "id": "YgfGSzsOIiLG"
      }
    },
    {
      "cell_type": "code",
      "source": [
        "def fitness(items, knapsack_max_capacity, solution):\n",
        "    total_weight = sum(compress(items['Weight'], solution))\n",
        "    if total_weight > knapsack_max_capacity:\n",
        "        return 0\n",
        "    return sum(compress(items['Value'], solution))\n",
        "\n",
        "#fitnnes zwroci sumę wartosci\n",
        "\n",
        "\n",
        "items, knapsack_max_capacity = get_small()\n",
        "#wywołanie funkcji get small\n",
        "\n",
        "# items zwroci zawartosc, a\n",
        "# knapsack_max_capacity = zwroci 10 przypisana w funkcji\n",
        "\n",
        "print(items)\n",
        "\n",
        "start_time = time.time() #obliczanie czasu funkcji\n",
        "best_solution = None\n",
        "best_value = 0\n",
        "#wszystkie mozliwe kombinacje wyboru elementu  (True - wybrane) False - nie wybrany\n",
        "#product generuje wszystkie mozliwe kombinacje elementów\n",
        "for solution in product([False, True], repeat=len(items)):\n",
        "    solution_value = fitness(items, knapsack_max_capacity, solution)\n",
        "    if solution_value > best_value:\n",
        "        best_solution = solution\n",
        "        best_value = solution_value\n",
        "end_time = time.time()\n",
        "total_time = end_time - start_time\n",
        "print('Best solution:', list(compress(items['Name'], best_solution)))\n",
        "print('Best solution value:', best_value)\n",
        "print('Time: ', total_time)"
      ],
      "metadata": {
        "colab": {
          "base_uri": "https://localhost:8080/"
        },
        "id": "JG69bdn6IkWr",
        "outputId": "2cb20b87-9933-429e-9471-8f1f0067e91e"
      },
      "execution_count": 7,
      "outputs": [
        {
          "output_type": "stream",
          "name": "stdout",
          "text": [
            "     Name  Weight  Value\n",
            "0  Pearls       3      4\n",
            "1    Gold       7      7\n",
            "2   Crown       4      5\n",
            "3    Coin       1      1\n",
            "4     Axe       5      4\n",
            "5   Sword       4      3\n",
            "6    Ring       2      5\n",
            "7     Cup       3      1\n",
            "Best solution: ['Pearls', 'Crown', 'Coin', 'Ring']\n",
            "Best solution value: 15\n",
            "Time:  0.002420663833618164\n"
          ]
        }
      ]
    },
    {
      "cell_type": "markdown",
      "source": [
        "##Opis compress:\n",
        "\n",
        "Funkcja compress() wybiera tylko te elementy z jednej listy, które są \"skompresowane\" lub wybrane przez drugą listę, mającą wartości logiczne True lub False. Jeśli wartość w drugiej liście jest True, to odpowiadający jej element z pierwszej listy jest zachowywany, a jeśli False, to jest pomijany"
      ],
      "metadata": {
        "id": "qrZp0d510vJS"
      }
    },
    {
      "cell_type": "markdown",
      "source": [
        "## Test crossover:"
      ],
      "metadata": {
        "id": "ZGI6zuWj7Zju"
      }
    },
    {
      "cell_type": "code",
      "source": [
        "#parent1 = [1, 2, 3, 4, 5]\n",
        "#parent2 = [6, 7, 8, 9, 10]\n",
        "#crossover_point = 2\n",
        "\n",
        "#child1 = parent1[:crossover_point] + parent2[crossover_point:]\n",
        "#print(child1)\n",
        "\n",
        "#print(\"--------------------\")\n",
        "#child2 = parent2[:crossover_point] + parent1[crossover_point:]\n",
        "#print(child2)"
      ],
      "metadata": {
        "id": "odxgfNZU7cbU"
      },
      "execution_count": 8,
      "outputs": []
    },
    {
      "cell_type": "markdown",
      "source": [
        "Crossover function"
      ],
      "metadata": {
        "id": "KdRXEOSz9fLc"
      }
    },
    {
      "cell_type": "code",
      "source": [
        "def crossover(parent1, parent2):\n",
        "  #losowy wybor punktu krzyzowania\n",
        "  crossover_point = random.randint(1, len(parent1) - 1)# ponieważ tablica iterowana jest od 0\n",
        "\n",
        "  child1 = parent1[:crossover_point] + parent2[crossover_point:]\n",
        "  #print(child1)\n",
        "\n",
        "  #print(\"--------------------\")\n",
        "  child2 = parent2[:crossover_point] + parent1[crossover_point:]\n",
        "  #print(child2)\n",
        "  return child1,child2"
      ],
      "metadata": {
        "id": "Sp8Hnx9s6cY-"
      },
      "execution_count": 9,
      "outputs": []
    },
    {
      "cell_type": "markdown",
      "source": [
        "Mutation function"
      ],
      "metadata": {
        "id": "u6ZRHttL9kwJ"
      }
    },
    {
      "cell_type": "code",
      "source": [
        "def mutation(individual, mutation_rate):\n",
        "  for i in range(len(individual)):\n",
        "    #losowy wybór elementu wektora\n",
        "    if random.random() < mutation_rate:\n",
        "      #zastąpienie tego elementu jego negacją\n",
        "      individual[i] = not individual[i] #negacja\n",
        "  return individual"
      ],
      "metadata": {
        "id": "g_oTPXXW9hjj"
      },
      "execution_count": 13,
      "outputs": []
    },
    {
      "cell_type": "markdown",
      "source": [
        "Selection function\n",
        "\n",
        "Służy do wyboru najlepszych osobników z populacji na podstawie ich dopasowania (fitness)"
      ],
      "metadata": {
        "id": "vQkOIlQ6An_B"
      }
    },
    {
      "cell_type": "code",
      "source": [
        "def selection(items, knapsack_max_capacity, population, n_selection):\n",
        "\n",
        "    #population is the list of person which we would like to sort\n",
        "    # \"-\" before fitness mean that it would be (sorotwanie malejące XD) descending sort\n",
        "\n",
        "    #sorted sortuje na podstawie klucza - wartosc ich dopasowania w porządku malejącym\n",
        "    #return zwraca liczbę osobnikow posrtowana według wartosci ich dopasowania w porzadku malejacym\n",
        "    # key=lambda individual - klucz sortowania\n",
        "    return sorted(population, key=lambda individual: -fitness(items, knapsack_max_capacity, individual))"
      ],
      "metadata": {
        "id": "0p4EyAhfApDg"
      },
      "execution_count": 11,
      "outputs": []
    },
    {
      "cell_type": "markdown",
      "source": [
        "for_students.py"
      ],
      "metadata": {
        "id": "-uhycsMsIrKs"
      }
    },
    {
      "cell_type": "code",
      "source": [
        "# etap 1\n",
        "# tworzenie początkowej populacji rozwiązań\n",
        "def initial_population(individual_size, population_size):\n",
        "    # elementy w zbiorze dobiera się w sposob losowy\n",
        "    # Kod generuje listę populacji składającą się z osobników,\n",
        "    # gdzie każdy osobnik ma określoną liczbę losowo wybranych wartości logicznych True lub False.\n",
        "    # Proces ten jest powtarzany population_size razy.\n",
        "    return [[random.choice([True, False]) for _ in range(individual_size)] for _ in range(population_size)]\n",
        "\n",
        "def fitness(items, knapsack_max_capacity, individual):\n",
        "    #jesli w individual jest True to zostanie zachowane\n",
        "    total_weight = sum(compress(items['Weight'], individual))\n",
        "    if total_weight > knapsack_max_capacity:\n",
        "        return 0\n",
        "    return sum(compress(items['Value'], individual))\n",
        "\n",
        "def population_best(items, knapsack_max_capacity, population):\n",
        "    best_individual = None\n",
        "    best_individual_fitness = -1\n",
        "    for individual in population:\n",
        "        individual_fitness = fitness(items, knapsack_max_capacity, individual)\n",
        "        if individual_fitness > best_individual_fitness:\n",
        "            best_individual = individual\n",
        "            best_individual_fitness = individual_fitness\n",
        "    return best_individual, best_individual_fitness\n",
        "\n",
        "\n",
        "items, knapsack_max_capacity = get_big()\n",
        "print(items)\n",
        "\n",
        "mutation_rate = 0.05 #added there\n",
        "\n",
        "population_size = 100\n",
        "generations = 200\n",
        "n_selection = 20\n",
        "n_elite = 1\n",
        "\n",
        "start_time = time.time()\n",
        "best_solution = None\n",
        "best_fitness = 0\n",
        "population_history = []\n",
        "best_history = []\n",
        "population = initial_population(len(items), population_size)\n",
        "for _ in range(generations):\n",
        "    population_history.append(population)\n",
        "\n",
        "    # TODO: implement genetic algorithm\n",
        "\n",
        "\n",
        "    # Funkcja selection wybiera najlepszych osobników z populacji na podstawie ich oceny fitness\n",
        "    # Zwraca listę wybranych osobników\n",
        "\n",
        "    # Selection\n",
        "    selected_individuals = selection(items, knapsack_max_capacity, population, n_selection)\n",
        "\n",
        "    # Crossover\n",
        "    children = []\n",
        "\n",
        "    # petla tworząca nowe osobniki w wyniku krzyzowania\n",
        "\n",
        "    # Liczba iteracji jest obliczana na podstawie rozmiaru populacji minus liczba elit podzielona na 2 (kazde krzyzowanie generuje 2 dzieci)\n",
        "    for _ in range((population_size - n_elite) // 2):\n",
        "\n",
        "      parent1 = random.choice(selected_individuals)# losowanie pierwszego rodzica z wybranych osobnikow\n",
        "\n",
        "      parent2 = random.choice(selected_individuals)# losowanie drugiego rodzica z wybranych osobnikow\n",
        "\n",
        "      # sprawdzam, czy obaj wylosowani rodzice są tacy sami\n",
        "      while parent1 == parent2:\n",
        "\n",
        "        # losuje nowego rodzica aż będą różni\n",
        "        parent2 = random.choice(selected_individuals)\n",
        "\n",
        "      # operacja krzyżowania na dwóch wybranych rodzicach, tworząc dwoje dzieci\n",
        "      child1, child2 = crossover(parent1, parent2)\n",
        "      # dodawanie nowo utworzonych dzieci do listy dzieci\n",
        "      children.extend([child1, child2])\n",
        "\n",
        "    # mutuje kazde dziecko  w celu\n",
        "    # rozszerzenia przestrzeni poszukiwań\n",
        "    for child in children:\n",
        "        mutation(child, mutation_rate)\n",
        "\n",
        "\n",
        "    # sortuje populację na podstawie oceny fitness każdego osobnika, aby stworzyć nową populacje\n",
        "    elites = sorted(population, key=lambda individual: fitness(items, knapsack_max_capacity, individual))\n",
        "\n",
        "    # Łączę elitarnych osobników z dziećmi, tworząc nową populację,\n",
        "    # która będzie poddawana kolejnym iteracjom algorytmu genetycznego\n",
        "    population = elites + children\n",
        "\n",
        "\n",
        "\n",
        "    # znajdowanie najlepszego osobnika w populacji\n",
        "    best_individual, best_individual_fitness = population_best(items, knapsack_max_capacity, population)\n",
        "    if best_individual_fitness > best_fitness:\n",
        "        best_solution = best_individual\n",
        "        best_fitness = best_individual_fitness\n",
        "    best_history.append(best_fitness)\n",
        "\n",
        "end_time = time.time()\n",
        "total_time = end_time - start_time\n",
        "print('Best solution:', list(compress(items['Name'], best_solution)))\n",
        "print('Best solution value:', best_fitness)\n",
        "print('Time: ', total_time)\n",
        "\n",
        "# plot generations\n",
        "x = []\n",
        "y = []\n",
        "top_best = 10\n",
        "for i, population in enumerate(population_history):\n",
        "    plotted_individuals = min(len(population), top_best)\n",
        "    x.extend([i] * plotted_individuals)\n",
        "    population_fitnesses = [fitness(items, knapsack_max_capacity, individual) for individual in population]\n",
        "    population_fitnesses.sort(reverse=True)\n",
        "    y.extend(population_fitnesses[:plotted_individuals])\n",
        "plt.scatter(x, y, marker='.')\n",
        "plt.plot(best_history, 'r')\n",
        "# x -> numer generacji(kolejne iteracje algorytmu genetycznego)\n",
        "plt.xlabel('Generation')\n",
        "# y -> wartość fitnness najlepszego osobnika w danej generacji\n",
        "plt.ylabel('Fitness')\n",
        "# czerowna kreska na wykresie sledzi postępu algorytmu genetycznego w poszukiwaniu optymalnego rozwiązania\n",
        "plt.show()"
      ],
      "metadata": {
        "colab": {
          "base_uri": "https://localhost:8080/",
          "height": 986
        },
        "id": "HBdaT15RIlvb",
        "outputId": "aca5def3-1323-4f1f-f7d9-57139a134890"
      },
      "execution_count": 14,
      "outputs": [
        {
          "output_type": "stream",
          "name": "stdout",
          "text": [
            "               Name  Weight    Value\n",
            "0               Axe   32252    68674\n",
            "1       Bronze coin  225790   471010\n",
            "2             Crown  468164   944620\n",
            "3    Diamond statue  489494   962094\n",
            "4      Emerald belt   35384    78344\n",
            "5            Fossil  265590   579152\n",
            "6         Gold coin  497911   902698\n",
            "7            Helmet  800493  1686515\n",
            "8               Ink  823576  1688691\n",
            "9         Jewel box  552202  1056157\n",
            "10            Knife  323618   677562\n",
            "11       Long sword  382846   833132\n",
            "12             Mask   44676    99192\n",
            "13         Necklace  169738   376418\n",
            "14       Opal badge  610876  1253986\n",
            "15            Perls  854190  1853562\n",
            "16           Quiver  671123  1320297\n",
            "17        Ruby ring  698180  1301637\n",
            "18  Silver bracelet  446517   859835\n",
            "19        Timepiece  909620  1677534\n",
            "20          Uniform  904818  1910501\n",
            "21     Venom potion  730061  1528646\n",
            "22       Wool scarf  931932  1827477\n",
            "23        Cross bow  952360  2068204\n",
            "24  Yesteryear book  926023  1746556\n",
            "25         Zinc cup  978724  2100851\n",
            "Best solution: ['Bronze coin', 'Fossil', 'Gold coin', 'Helmet', 'Necklace', 'Perls', 'Uniform', 'Venom potion', 'Cross bow', 'Zinc cup']\n",
            "Best solution value: 13477557\n",
            "Time:  59.67546534538269\n"
          ]
        },
        {
          "output_type": "display_data",
          "data": {
            "text/plain": [
              "<Figure size 640x480 with 1 Axes>"
            ],
            "image/png": "[encoded data removed]"
          },
          "metadata": {}
        }
      ]
    },
    {
      "cell_type": "code",
      "source": [],
      "metadata": {
        "id": "s7O5augWIwub"
      },
      "execution_count": null,
      "outputs": []
    }
  ]
}