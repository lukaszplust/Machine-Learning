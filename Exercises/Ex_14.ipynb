{
  "nbformat": 4,
  "nbformat_minor": 0,
  "metadata": {
    "colab": {
      "provenance": []
    },
    "kernelspec": {
      "name": "python3",
      "display_name": "Python 3"
    },
    "language_info": {
      "name": "python"
    }
  },
  "cells": [
    {
      "cell_type": "markdown",
      "source": [
        "Podziel wartości kolumny hashtags względem znaku hash '#' używając pd.Series.str.split() z argumentem expand=True. Otrzymasz cztery kolumny."
      ],
      "metadata": {
        "id": "Wie0YpKTSCji"
      }
    },
    {
      "cell_type": "code",
      "execution_count": 14,
      "metadata": {
        "id": "QYVBqOU-R6nw"
      },
      "outputs": [],
      "source": [
        "import pandas as pd\n",
        "df = pd.DataFrame(\n",
        "    data={\n",
        "        'hashtags': [\n",
        "            '#good#vibes',\n",
        "            '#hot#summer#holiday',\n",
        "            '#street#food',\n",
        "            '#workout',\n",
        "        ]\n",
        "    }\n",
        ")"
      ]
    },
    {
      "cell_type": "code",
      "source": [
        "#Argument expand=True sprawia, że podzielone wartości są rozwinięte w osobne kolumny"
      ],
      "metadata": {
        "id": "OxA0rA5XTVnx"
      },
      "execution_count": 15,
      "outputs": []
    },
    {
      "cell_type": "code",
      "source": [
        "df = df['hashtags'].str.split('#', expand=True)"
      ],
      "metadata": {
        "id": "PA84hteyR8LF"
      },
      "execution_count": 16,
      "outputs": []
    },
    {
      "cell_type": "code",
      "source": [
        "df = df.drop(columns=[0])"
      ],
      "metadata": {
        "id": "xmJeb_FkSS5e"
      },
      "execution_count": 19,
      "outputs": []
    },
    {
      "cell_type": "code",
      "source": [
        "df.columns = ['hashtag1', 'hashtag2', 'hashtag3']\n",
        "print(df)"
      ],
      "metadata": {
        "colab": {
          "base_uri": "https://localhost:8080/"
        },
        "id": "PppX-KanTpQO",
        "outputId": "02d65953-34d6-4b78-b9ef-1c6ce2582927"
      },
      "execution_count": 20,
      "outputs": [
        {
          "output_type": "stream",
          "name": "stdout",
          "text": [
            "  hashtag1 hashtag2 hashtag3\n",
            "0     good    vibes     None\n",
            "1      hot   summer  holiday\n",
            "2   street     food     None\n",
            "3  workout     None     None\n"
          ]
        }
      ]
    },
    {
      "cell_type": "code",
      "source": [],
      "metadata": {
        "id": "gL8KCPpqUCWm"
      },
      "execution_count": null,
      "outputs": []
    }
  ]
}