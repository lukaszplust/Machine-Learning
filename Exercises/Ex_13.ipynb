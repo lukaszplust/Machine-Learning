{
  "nbformat": 4,
  "nbformat_minor": 0,
  "metadata": {
    "colab": {
      "provenance": []
    },
    "kernelspec": {
      "name": "python3",
      "display_name": "Python 3"
    },
    "language_info": {
      "name": "python"
    }
  },
  "cells": [
    {
      "cell_type": "markdown",
      "source": [
        "Przypisz do obiektu df nową kolumnę o nazwie 'PLN_flag', która przyjmie wartość 1, gdy waluta 'PLN' będzie w liście w kolumnie currency i przeciwnie 0. W odpowiedzi wydrukuj obiekt DataFrame do konsoli."
      ],
      "metadata": {
        "id": "_bigtAewN5U8"
      }
    },
    {
      "cell_type": "code",
      "execution_count": 1,
      "metadata": {
        "id": "hOLveNCpN1hn"
      },
      "outputs": [],
      "source": [
        "import pandas as pd\n",
        "\n",
        "\n",
        "data_dict = {\n",
        "    'currency': [\n",
        "        ['PLN', 'USD'],\n",
        "        ['EUR', 'USD', 'PLN', 'CAD'],\n",
        "        ['GBP'],\n",
        "        ['JPY', 'CZK', 'HUF'],\n",
        "        [],\n",
        "    ]\n",
        "}\n",
        "df = pd.DataFrame(data=data_dict)"
      ]
    },
    {
      "cell_type": "code",
      "source": [
        "df['PLN_flag'] = df['currency'].apply(lambda x: 1 if 'PLN' in x else 0)\n",
        "print(df)"
      ],
      "metadata": {
        "colab": {
          "base_uri": "https://localhost:8080/"
        },
        "id": "cmZM0zvgN2SV",
        "outputId": "14993110-0f32-41ed-a7e9-a52839e2bc03"
      },
      "execution_count": 4,
      "outputs": [
        {
          "output_type": "stream",
          "name": "stdout",
          "text": [
            "               currency  PLN_flag\n",
            "0            [PLN, USD]         1\n",
            "1  [EUR, USD, PLN, CAD]         1\n",
            "2                 [GBP]         0\n",
            "3       [JPY, CZK, HUF]         0\n",
            "4                    []         0\n"
          ]
        }
      ]
    },
    {
      "cell_type": "code",
      "source": [],
      "metadata": {
        "id": "2N_mEmuXOWmf"
      },
      "execution_count": null,
      "outputs": []
    }
  ]
}