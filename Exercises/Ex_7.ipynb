{
  "nbformat": 4,
  "nbformat_minor": 0,
  "metadata": {
    "colab": {
      "provenance": []
    },
    "kernelspec": {
      "name": "python3",
      "display_name": "Python 3"
    },
    "language_info": {
      "name": "python"
    }
  },
  "cells": [
    {
      "cell_type": "markdown",
      "source": [
        "Wydobądź z obiektu df kolumny typu object. Następnie uzupełnij wszystkie braki dla tych kolumn wartością 'empty'. Przypisz wynik do zmiennej df_object i wydrukuj tą zmienną do konsoli."
      ],
      "metadata": {
        "id": "oesDNA06vmSt"
      }
    },
    {
      "cell_type": "code",
      "execution_count": 1,
      "metadata": {
        "id": "KR-HOFguvhop"
      },
      "outputs": [],
      "source": [
        "import numpy as np\n",
        "import pandas as pd\n",
        "from sklearn.impute import SimpleImputer\n",
        "\n",
        "\n",
        "data = {\n",
        "    'size': ['XL', 'L', 'M', np.nan, 'M', 'M'],\n",
        "    'color': ['red', 'green', 'blue', 'green', 'red', 'green'],\n",
        "    'gender': ['female', 'male', np.nan, 'female', 'female', 'male'],\n",
        "    'price': [199.0, 89.0, np.nan, 129.0, 79.0, 89.0],\n",
        "    'weight': [500, 450, 300, np.nan, 410, np.nan],\n",
        "    'bought': ['yes', 'no', 'yes', 'no', 'yes', 'no']\n",
        "}\n",
        "\n",
        "df = pd.DataFrame(data=data)"
      ]
    },
    {
      "cell_type": "code",
      "source": [
        "df_change = df.select_dtypes(include=['object']).fillna('empty')\n",
        "print(df_change)"
      ],
      "metadata": {
        "colab": {
          "base_uri": "https://localhost:8080/"
        },
        "id": "DcyiZ6QsvjjM",
        "outputId": "2cced1d8-575b-458e-f48b-514c1ec2daab"
      },
      "execution_count": 3,
      "outputs": [
        {
          "output_type": "stream",
          "name": "stdout",
          "text": [
            "    size  color  gender bought\n",
            "0     XL    red  female    yes\n",
            "1      L  green    male     no\n",
            "2      M   blue   empty    yes\n",
            "3  empty  green  female     no\n",
            "4      M    red  female    yes\n",
            "5      M  green    male     no\n"
          ]
        }
      ]
    },
    {
      "cell_type": "code",
      "source": [],
      "metadata": {
        "id": "z33nZphbwbBW"
      },
      "execution_count": null,
      "outputs": []
    }
  ]
}