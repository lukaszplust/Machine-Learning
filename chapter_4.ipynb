{
  "nbformat": 4,
  "nbformat_minor": 0,
  "metadata": {
    "colab": {
      "provenance": [],
      "authorship_tag": "ABX9TyPvXIgloC2YvbrO3/P4veCO",
      "include_colab_link": true
    },
    "kernelspec": {
      "name": "python3",
      "display_name": "Python 3"
    },
    "language_info": {
      "name": "python"
    }
  },
  "cells": [
    {
      "cell_type": "markdown",
      "metadata": {
        "id": "view-in-github",
        "colab_type": "text"
      },
      "source": [
        "<a href=\"https://colab.research.google.com/github/lukaszplust/Machine-Learning/blob/main/chapter_4.ipynb\" target=\"_parent\"><img src=\"https://colab.research.google.com/assets/colab-badge.svg\" alt=\"Open In Colab\"/></a>"
      ]
    },
    {
      "cell_type": "code",
      "execution_count": 22,
      "metadata": {
        "id": "UafWOHlLr1wR"
      },
      "outputs": [],
      "source": [
        "import numpy as np\n",
        "\n",
        "np.random.seed(42)\n",
        "\n",
        "m = 100# number of instances\n",
        "\n",
        "X = 2 *np.random.rand(m, 1) # max is <2, because 0.99999 * 2 < 2\n",
        "\n",
        "y = 4 + 3*X + np.random.rand(m, 1)# 3*X <6 ,   5.99 +4 + 0.99 (max value prediction)"
      ]
    },
    {
      "cell_type": "code",
      "source": [
        "import matplotlib.pyplot as plt\n",
        "\n",
        "\n",
        "plt.figure(figsize=(8, 6))\n",
        "\n",
        "plt.plot(X,y, \".\")\n",
        "\n",
        "plt.show()"
      ],
      "metadata": {
        "colab": {
          "base_uri": "https://localhost:8080/",
          "height": 524
        },
        "id": "jkmrwdEBsyy-",
        "outputId": "48db8e1d-a9f9-42f9-87f0-f0987536f749"
      },
      "execution_count": 23,
      "outputs": [
        {
          "output_type": "display_data",
          "data": {
            "text/plain": [
              "<Figure size 800x600 with 1 Axes>"
            ],
            "image/png": "[encoded data removed]"
          },
          "metadata": {}
        }
      ]
    },
    {
      "cell_type": "markdown",
      "source": [
        "theta_best = value that minimazies the cost function\n",
        "\n",
        "y = vector of target values\n",
        "\n",
        "theta_best = (X.T * X)^-1 * X.T * y"
      ],
      "metadata": {
        "id": "XfSCR0aExrjd"
      }
    },
    {
      "cell_type": "code",
      "source": [
        "from sklearn.preprocessing import add_dummy_feature\n",
        "\n",
        "X_b = add_dummy_feature(X)# add 1 to each instance\n",
        "theta_best = np.linalg.inv(X_b.T @ X_b) @ X_b.T @ y"
      ],
      "metadata": {
        "id": "DIuHfEKbteev"
      },
      "execution_count": 28,
      "outputs": []
    },
    {
      "cell_type": "code",
      "source": [
        "X[:2]"
      ],
      "metadata": {
        "colab": {
          "base_uri": "https://localhost:8080/"
        },
        "id": "h5Wa6Bp4zBVg",
        "outputId": "2bef278c-151f-42d0-d988-372a1ee7d21d"
      },
      "execution_count": 29,
      "outputs": [
        {
          "output_type": "execute_result",
          "data": {
            "text/plain": [
              "array([[0.74908024],\n",
              "       [1.90142861]])"
            ]
          },
          "metadata": {},
          "execution_count": 29
        }
      ]
    },
    {
      "cell_type": "code",
      "source": [
        "X_b[:2]"
      ],
      "metadata": {
        "colab": {
          "base_uri": "https://localhost:8080/"
        },
        "id": "L6Czs0Idy4CG",
        "outputId": "231bef5f-f204-4bbc-9196-067fa3e5023a"
      },
      "execution_count": 30,
      "outputs": [
        {
          "output_type": "execute_result",
          "data": {
            "text/plain": [
              "array([[1.        , 0.74908024],\n",
              "       [1.        , 1.90142861]])"
            ]
          },
          "metadata": {},
          "execution_count": 30
        }
      ]
    },
    {
      "cell_type": "markdown",
      "source": [
        "Theta[0] is bias. (intercept) (pl:wyraz wolny)\n",
        "\n",
        "Theta[1] is slope coefficinet (pl: wspolczynnik kierunkowy)"
      ],
      "metadata": {
        "id": "Se6ITB0E0ud7"
      }
    },
    {
      "cell_type": "code",
      "source": [
        "theta_best"
      ],
      "metadata": {
        "colab": {
          "base_uri": "https://localhost:8080/"
        },
        "id": "dFhjp9PQy7l7",
        "outputId": "919ab4f3-9d8d-49e4-96fa-2ae05b3df49f"
      },
      "execution_count": 31,
      "outputs": [
        {
          "output_type": "execute_result",
          "data": {
            "text/plain": [
              "array([[4.51359766],\n",
              "       [2.98323418]])"
            ]
          },
          "metadata": {},
          "execution_count": 31
        }
      ]
    },
    {
      "cell_type": "markdown",
      "source": [
        "Thats close to thats what we used to generate the data is y = 4 + 3*x + Gaussian noise"
      ],
      "metadata": {
        "id": "-u_RtoHN9Nx5"
      }
    },
    {
      "cell_type": "code",
      "source": [
        "X_new = np.array([[0], [2]]) # feature vector (maybe?)\n",
        "\n",
        "X_new_b = add_dummy_feature(X_new)\n"
      ],
      "metadata": {
        "id": "VxI1kD0qzj2L"
      },
      "execution_count": 41,
      "outputs": []
    },
    {
      "cell_type": "code",
      "source": [
        "X_new_b"
      ],
      "metadata": {
        "colab": {
          "base_uri": "https://localhost:8080/"
        },
        "id": "O1QZamuG4ASf",
        "outputId": "b2534317-6598-4abf-9794-c48a9b9bb212"
      },
      "execution_count": 42,
      "outputs": [
        {
          "output_type": "execute_result",
          "data": {
            "text/plain": [
              "array([[1., 0.],\n",
              "       [1., 2.]])"
            ]
          },
          "metadata": {},
          "execution_count": 42
        }
      ]
    },
    {
      "cell_type": "code",
      "source": [
        "y_predict = X_new_b @ theta_best"
      ],
      "metadata": {
        "id": "sDxApwpe4JXE"
      },
      "execution_count": 43,
      "outputs": []
    },
    {
      "cell_type": "code",
      "source": [
        "y_predict"
      ],
      "metadata": {
        "colab": {
          "base_uri": "https://localhost:8080/"
        },
        "id": "i3LtO-e64hO8",
        "outputId": "636e64fd-6925-4323-e01b-ba8eda03fe96"
      },
      "execution_count": 44,
      "outputs": [
        {
          "output_type": "execute_result",
          "data": {
            "text/plain": [
              "array([[ 4.51359766],\n",
              "       [10.48006601]])"
            ]
          },
          "metadata": {},
          "execution_count": 44
        }
      ]
    },
    {
      "cell_type": "code",
      "source": [
        "plt.plot(X_new, y_predict, \"r-\", label=\"Predictions\")\n",
        "\n",
        "plt.plot(X,y, \".\")\n",
        "plt.show()"
      ],
      "metadata": {
        "colab": {
          "base_uri": "https://localhost:8080/",
          "height": 433
        },
        "id": "5UkEJv544ixI",
        "outputId": "3e9511a8-b385-475f-ece1-86ee4c7be8d9"
      },
      "execution_count": 45,
      "outputs": [
        {
          "output_type": "display_data",
          "data": {
            "text/plain": [
              "<Figure size 640x480 with 1 Axes>"
            ],
            "image/png": "[encoded data removed]"
          },
          "metadata": {}
        }
      ]
    },
    {
      "cell_type": "code",
      "source": [],
      "metadata": {
        "id": "lCczSFEZ4_Xq"
      },
      "execution_count": null,
      "outputs": []
    }
  ]
}