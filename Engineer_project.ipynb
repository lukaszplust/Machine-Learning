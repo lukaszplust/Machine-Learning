{
  "nbformat": 4,
  "nbformat_minor": 0,
  "metadata": {
    "colab": {
      "provenance": [],
      "authorship_tag": "ABX9TyMPtOd0EsJnihLsbgNopXyV",
      "include_colab_link": true
    },
    "kernelspec": {
      "name": "python3",
      "display_name": "Python 3"
    },
    "language_info": {
      "name": "python"
    }
  },
  "cells": [
    {
      "cell_type": "markdown",
      "metadata": {
        "id": "view-in-github",
        "colab_type": "text"
      },
      "source": [
        "<a href=\"https://colab.research.google.com/github/lukaszplust/Machine-Learning/blob/main/Engineer_project.ipynb\" target=\"_parent\"><img src=\"https://colab.research.google.com/assets/colab-badge.svg\" alt=\"Open In Colab\"/></a>"
      ]
    },
    {
      "cell_type": "code",
      "source": [
        "import numpy as np\n",
        "import matplotlib.pyplot as plt\n",
        "from sklearn import datasets\n",
        "from sklearn.model_selection import train_test_split"
      ],
      "metadata": {
        "id": "qqAmxFSSJRZA"
      },
      "execution_count": 15,
      "outputs": []
    },
    {
      "cell_type": "markdown",
      "source": [
        "CALCULATING ERROR\n",
        "\n",
        "$$ \\hat{y} = weight \\cdot x + bias$$\n",
        "\n",
        "$$ \\hat{y} = w \\cdot X + b $$\n",
        "$$ X = [x_1, x_2, \\dots, x_n] $$\n",
        "$$ wX = [wx_1, wx_2, \\dots, wx_n]$$\n",
        "$$ \\hat{y} = [wx_1 + b, wx_2 + b, \\dots, wx_n + b]$$\n",
        "\n",
        "$$ MSE = J(w,b) = 1/N \\sum_{i=1}^{n} (y_i - (wx_i +b))^2$$\n",
        "\n",
        "$$ J'(m,b) = \\begin{bmatrix}\n",
        "\\frac{\\partial f}{\\partial w} \\\\\n",
        "\\frac{\\partial f}{\\partial b}\n",
        "\\end{bmatrix} = $$\n",
        "\\begin{bmatrix}\n",
        "\\frac{1}{N} \\sum -2x_i \\left( y_i - (w \\cdot x_i + b) \\right) \\\\\n",
        "\\frac{1}{N} \\sum -2 \\left( y_i - (w \\cdot x_i + b) \\right)\n",
        "\\end{bmatrix}\n",
        "\n",
        "UPDATE PARAMETERS\n",
        "\n",
        "$$ dJ/dw = dw = 1/N \\sum_{i=1}^{n} -2x_i(y_i - (w \\cdot x_i + b)) = 1/N \\sum_{i=1}^{n} -2x_i(y_i - \\hat{y}) = 1/N \\sum_{i=1}^{n} 2x_i (\\hat{y} - y_i)$$\n",
        "\n",
        "$$ dJ/db = db = 1/N \\sum_{i=1}^{n} -2(y_i - (w \\cdot x_i + b)) = 1/N \\sum_{i=1}^{n} -2(y_i - \\hat{y}) = 1/N \\sum_{k=1}^{n} 2(\\hat{y} - y_i)$$\n",
        "\n",
        "$$ X^T = \\begin{bmatrix}\n",
        "x_1 \\\\\n",
        "x_2 \\\\\n",
        "\\vdots \\\\\n",
        "x_n\n",
        "\\end{bmatrix} $$\n",
        "\n",
        "$$ \\hat{y} = [wx_1 + b, wx_2 + b, \\dots, wx_n + b] = dw $$\n",
        "\n",
        "GRADIENT DESCENT\n",
        "\n",
        "$$\n",
        "\\text{weights} = \\text{weights} - \\text{learning_rate} \\cdot \\frac{\\partial f}{\\partial w}\n",
        "$$\n",
        "\n",
        "$$\n",
        "\\text{bias} = \\text{bias} - \\text{learning_rate} \\cdot \\frac{\\partial f}{\\partial b}\n",
        "$$\n",
        "\n"
      ],
      "metadata": {
        "id": "xcr9laBeKJId"
      }
    },
    {
      "cell_type": "markdown",
      "source": [
        "Steps of fit function:\n",
        "\n",
        "1. Initalize weights as 0. WHY np.zeros??\n",
        "\n",
        "2. Initialize bias as 0\n",
        "\n",
        "3. Predict result by using: $$ \\hat{y} = w \\cdot X + b $$\n",
        "\n",
        "4. Calculate error\n",
        "\n",
        "5. Figure out new weight and bias by using gradient descent (need dw and db)\n",
        "\n",
        "6. Repeat it 'n_iter' times"
      ],
      "metadata": {
        "id": "VhKu6oSFfMJ3"
      }
    },
    {
      "cell_type": "code",
      "execution_count": 44,
      "metadata": {
        "id": "NCgNvGtcIOCP"
      },
      "outputs": [],
      "source": [
        "class LinearRegression:\n",
        "\n",
        "  def __init__(self, lr = 0.001, n_iters = 1000):\n",
        "    self.lr = lr # learning rate\n",
        "    self.n_iters = n_iters\n",
        "    self.weights = None\n",
        "    self.bias = None\n",
        "\n",
        "  def fit(self, X, y):\n",
        "    n_samples, n_features = X.shape\n",
        "    self.weights = np.zeros(n_features)\n",
        "    self.bias = 0\n",
        "\n",
        "    for _ in range(self.n_iters):\n",
        "      y_pred = np.dot(X, self.weights) + self.bias\n",
        "\n",
        "      dw = (1/n_samples) * np.dot(X.T, (y_pred - y))\n",
        "      db = (1/n_samples) * np.sum(y_pred - y)\n",
        "\n",
        "      self.weights -= self.lr * dw\n",
        "      self.bias -= self.lr * db\n",
        "\n",
        "  def predict(self, X):\n",
        "    y_pred = np.dot(X, self.weights) + self.bias\n",
        "    return y_pred"
      ]
    },
    {
      "cell_type": "code",
      "source": [
        "X,y = datasets.make_regression(n_samples=7, n_features= 1, noise= 30, random_state =40)\n",
        "X_train, X_test, y_train, y_test = train_test_split(X, y, test_size=0.2, random_state=40)\n",
        "\n",
        "print(\"Dane wejściowe (X):\\n\", X)\n",
        "print(\"Rzeczywiste wartości (y):\\n\", y)\n",
        "print(\"Dane treningowe (X_train):\\n\", X_train)\n",
        "print(\"Dane testowe (X_test):\\n\", X_test)\n",
        "print(\"Rzeczywiste wartości treningowe (y_train):\\n\", y_train)\n",
        "print(\"Rzeczywiste wartości testowe (y_test):\\n\", y_test)\n",
        "# Create a LinearRegression object\n",
        "model = LinearRegression()\n",
        "\n",
        "# Fit the model\n",
        "model.fit(X, y)\n",
        "\n",
        "# Make predictions\n",
        "predictions = model.predict(X)\n",
        "\n",
        "print(\"Predictions:\", predictions)\n",
        "print(\"Actual values:\", y)\n",
        "\n",
        "# Plotting the data and the regression line\n",
        "plt.scatter(X[:, 0], y, color='blue', label='Data points')  # Scatter plot for the original data points\n",
        "plt.plot(X[:, 0], predictions, color='red', label='Regression line')  # Plot the regression line\n",
        "plt.xlabel('Feature 1')  # Label for x-axis\n",
        "plt.ylabel('Target')  # Label for y-axis\n",
        "plt.title('Linear Regression')  # Title of the plot\n",
        "plt.legend()\n",
        "plt.show()"
      ],
      "metadata": {
        "colab": {
          "base_uri": "https://localhost:8080/",
          "height": 958
        },
        "id": "k-GsriXXjXVY",
        "outputId": "815c7ce8-f583-48b9-8603-bd76a1772c05"
      },
      "execution_count": 46,
      "outputs": [
        {
          "output_type": "stream",
          "name": "stdout",
          "text": [
            "Dane wejściowe (X):\n",
            " [[-0.6075477 ]\n",
            " [-0.12613641]\n",
            " [ 0.92871475]\n",
            " [ 2.29249034]\n",
            " [-0.68460636]\n",
            " [-0.46700242]\n",
            " [-1.84440103]]\n",
            "Rzeczywiste wartości (y):\n",
            " [ -32.52851243   27.0590021    68.80022501  163.77882906  -41.34367498\n",
            "  -51.91837042 -116.31432484]\n",
            "Dane treningowe (X_train):\n",
            " [[ 0.92871475]\n",
            " [-0.68460636]\n",
            " [-0.6075477 ]\n",
            " [ 2.29249034]\n",
            " [-1.84440103]]\n",
            "Dane testowe (X_test):\n",
            " [[-0.46700242]\n",
            " [-0.12613641]]\n",
            "Rzeczywiste wartości treningowe (y_train):\n",
            " [  68.80022501  -41.34367498  -32.52851243  163.77882906 -116.31432484]\n",
            "Rzeczywiste wartości testowe (y_test):\n",
            " [-51.91837042  27.0590021 ]\n",
            "Predictions: [-29.09324623  -3.43122922  52.79846349 125.49562239 -33.20092038\n",
            " -21.601367   -95.02471172]\n",
            "Actual values: [ -32.52851243   27.0590021    68.80022501  163.77882906  -41.34367498\n",
            "  -51.91837042 -116.31432484]\n"
          ]
        },
        {
          "output_type": "display_data",
          "data": {
            "text/plain": [
              "<Figure size 640x480 with 1 Axes>"
            ],
            "image/png": "[encoded data removed]"
          },
          "metadata": {}
        }
      ]
    },
    {
      "cell_type": "code",
      "source": [],
      "metadata": {
        "id": "VJXXkGnmnNDf"
      },
      "execution_count": 24,
      "outputs": []
    },
    {
      "cell_type": "code",
      "source": [],
      "metadata": {
        "id": "P_qd7pTWo5wx"
      },
      "execution_count": null,
      "outputs": []
    }
  ]
}