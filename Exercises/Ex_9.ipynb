{
  "nbformat": 4,
  "nbformat_minor": 0,
  "metadata": {
    "colab": {
      "provenance": []
    },
    "kernelspec": {
      "name": "python3",
      "display_name": "Python 3"
    },
    "language_info": {
      "name": "python"
    }
  },
  "cells": [
    {
      "cell_type": "markdown",
      "source": [
        "Dokonaj dyskretyzacji kolumny weight na 3 przedziały o zadanej postaci:\n",
        "\n",
        "(60, 75]\n",
        "\n",
        "(75, 80]\n",
        "\n",
        "(80, 95]\n",
        "\n",
        "Wynik przypisz do nowej kolumny o nazwie 'weight_cut' tak jak pokazano poniżej. W odpowiedzi wydrukuj obiekt df do konsoli."
      ],
      "metadata": {
        "id": "wPgE3E4VIZ66"
      }
    },
    {
      "cell_type": "code",
      "execution_count": 1,
      "metadata": {
        "id": "NY4X6T-xHM-S"
      },
      "outputs": [],
      "source": [
        "import pandas as pd\n",
        "\n",
        "\n",
        "df = pd.DataFrame(data={'weight': [75., 78.5, 85., 91., 84.5, 83., 68.]})"
      ]
    },
    {
      "cell_type": "code",
      "source": [
        "df['weight_cut'] = pd.cut(df['weight'], bins = (60,75,80,95))#bins od 60 do 75, od 75 do 80, od 80 do 95\n",
        "print(df)"
      ],
      "metadata": {
        "colab": {
          "base_uri": "https://localhost:8080/"
        },
        "id": "yQynSw2HHNic",
        "outputId": "827b00cb-a24c-413f-9a99-f39b5082096c"
      },
      "execution_count": 5,
      "outputs": [
        {
          "output_type": "stream",
          "name": "stdout",
          "text": [
            "   weight weight_cut\n",
            "0    75.0   (60, 75]\n",
            "1    78.5   (75, 80]\n",
            "2    85.0   (80, 95]\n",
            "3    91.0   (80, 95]\n",
            "4    84.5   (80, 95]\n",
            "5    83.0   (80, 95]\n",
            "6    68.0   (60, 75]\n"
          ]
        }
      ]
    },
    {
      "cell_type": "code",
      "source": [],
      "metadata": {
        "id": "cd3mxvrWHqgb"
      },
      "execution_count": null,
      "outputs": []
    }
  ]
}