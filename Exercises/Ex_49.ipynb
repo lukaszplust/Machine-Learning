{
  "nbformat": 4,
  "nbformat_minor": 0,
  "metadata": {
    "colab": {
      "provenance": []
    },
    "kernelspec": {
      "name": "python3",
      "display_name": "Python 3"
    },
    "language_info": {
      "name": "python"
    }
  },
  "cells": [
    {
      "cell_type": "markdown",
      "source": [
        "Wygenerowano zbiór raw_data zdefiniowany poniżej. Następnie podzielono go na zbiór treningowy (X_train, y_train) i testowy (X_test, y_test).\n",
        "\n",
        "\n",
        "\n",
        "Wykorzystując klasę DecisionTreeClassifier z pakietu scikit-learn zbuduj model klasyfikacji dla podanych danych (ustaw argumenty max_depth=6 oraz min_samples_leaf=6). Dokonaj trenowania modelu na zbiorze treningowym oraz oceny na zbiorze testowym.\n",
        "\n",
        "W odpowiedzi wydrukuj do konsoli dokładność modelu (do czterech miejsc po przecinku) na zbiorze testowym tak jak pokazano poniżej."
      ],
      "metadata": {
        "id": "LDb58VQ2WKR-"
      }
    },
    {
      "cell_type": "code",
      "execution_count": 1,
      "metadata": {
        "id": "m8hm09DUV5W_"
      },
      "outputs": [],
      "source": [
        "import numpy as np\n",
        "import pandas as pd\n",
        "\n",
        "from sklearn.datasets import make_moons\n",
        "from sklearn.model_selection import train_test_split\n",
        "from sklearn.tree import DecisionTreeClassifier\n",
        "\n",
        "\n",
        "np.random.seed(42)\n",
        "raw_data = make_moons(n_samples=2000, noise=0.25, random_state=42)\n",
        "data = raw_data[0]\n",
        "target = raw_data[1]\n",
        "\n",
        "X_train, X_test, y_train, y_test = train_test_split(data, target)"
      ]
    },
    {
      "cell_type": "code",
      "source": [
        "clf = DecisionTreeClassifier(max_depth = 6,min_samples_leaf=6)#max_depth = 6 -> maksymalnie 6 poziomow\n",
        "#min_samples_leaf=6 -> oznacza, że liść zostanie utworzony, jeśli w danym węźle znajduje się co najmniej 6 próbek\n",
        "clf.fit(X_train,y_train)\n",
        "accuracy = clf.score(X_test, y_test)\n",
        "print(f'Accuracy: {accuracy:.4f}')"
      ],
      "metadata": {
        "colab": {
          "base_uri": "https://localhost:8080/"
        },
        "id": "xBn11rreV6C6",
        "outputId": "08a2356b-2437-4c8a-b6d3-fcc4af12ebc8"
      },
      "execution_count": 2,
      "outputs": [
        {
          "output_type": "stream",
          "name": "stdout",
          "text": [
            "Accuracy: 0.9300\n"
          ]
        }
      ]
    },
    {
      "cell_type": "code",
      "source": [],
      "metadata": {
        "id": "u0Hb61LeWzEo"
      },
      "execution_count": null,
      "outputs": []
    }
  ]
}