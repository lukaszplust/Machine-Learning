{
  "nbformat": 4,
  "nbformat_minor": 0,
  "metadata": {
    "colab": {
      "provenance": []
    },
    "kernelspec": {
      "name": "python3",
      "display_name": "Python 3"
    },
    "language_info": {
      "name": "python"
    }
  },
  "cells": [
    {
      "cell_type": "markdown",
      "source": [
        "W pliku predictions.csv znajdują się wyniki predykcji na podstawie pewnego modelu klasyfikacji wieloklasowej (3 klasy). Kolumna y_true opisuje rzeczywiste wartości, zaś kolumna y_pred wartości przewidziane przez model.\n",
        "\n",
        "Wykorzystując funkcję accuracy_score() z pakietu scikit-learn policz dokładność tego modelu.\n",
        "\n",
        "Wynik z dokładnością do czterech miejsc po przecinku wyświetl do konsoli.\n",
        "\n",
        "|"
      ],
      "metadata": {
        "id": "7bcHrqk1QAC6"
      }
    },
    {
      "cell_type": "code",
      "source": [
        "import numpy as np\n",
        "import pandas as pd\n",
        "from sklearn.metrics import accuracy_score"
      ],
      "metadata": {
        "id": "6KXpbsQMPyi-"
      },
      "execution_count": 3,
      "outputs": []
    },
    {
      "cell_type": "code",
      "source": [
        "df = pd.read_csv('predictions.csv')\n"
      ],
      "metadata": {
        "id": "buMaK1jRP_sI"
      },
      "execution_count": 5,
      "outputs": []
    },
    {
      "cell_type": "code",
      "source": [
        "y_true = df[['y_true']]\n",
        "y_pred = df[['y_pred']]"
      ],
      "metadata": {
        "id": "8GJmBJJHQX6f"
      },
      "execution_count": 10,
      "outputs": []
    },
    {
      "cell_type": "code",
      "source": [
        "print(f'Accuracy: {round(accuracy_score(y_true,y_pred),4)}')"
      ],
      "metadata": {
        "colab": {
          "base_uri": "https://localhost:8080/"
        },
        "id": "APgCii_RQddT",
        "outputId": "48a452e6-1c2f-4816-a49b-6794f187d70f"
      },
      "execution_count": 13,
      "outputs": [
        {
          "output_type": "stream",
          "name": "stdout",
          "text": [
            "Accuracy: 0.7241\n"
          ]
        }
      ]
    },
    {
      "cell_type": "code",
      "source": [],
      "metadata": {
        "id": "N5V4TeaoQstp"
      },
      "execution_count": null,
      "outputs": []
    }
  ]
}