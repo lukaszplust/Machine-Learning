{
  "nbformat": 4,
  "nbformat_minor": 0,
  "metadata": {
    "colab": {
      "provenance": []
    },
    "kernelspec": {
      "name": "python3",
      "display_name": "Python 3"
    },
    "language_info": {
      "name": "python"
    }
  },
  "cells": [
    {
      "cell_type": "markdown",
      "source": [
        "Wygenerowano zbiór raw_data zdefiniowany poniżej. Następnie podzielono go na zbiór treningowy i testowy.\n",
        "\n",
        "Wykorzystując klasę RandomForestClassifier z pakietu scikit-learn zbuduj model klasyfikacji dla podanych danych. Wykorzystując metodę przeszukiwania siatki oraz klasę GridSearchCV (ustaw argumenty scoring='accuracy', cv=5) znajdź optymalne wartości parametrów criterion, max_depth oraz min_samples_leaf. Wartości parametrów przeszukaj z podanych poniżej:\n",
        "\n",
        "dla criterion -> ['gini', 'entropy']\n",
        "\n",
        "dla max_depth -> [6, 7, 8]\n",
        "\n",
        "dla min_samples_leaf -> [4, 5]\n",
        "\n",
        "Dokonaj trenowania na zbiorze treningowym oraz oceny na zbiorze testowym.\n",
        "\n",
        "W odpowiedzi wydrukuj do konsoli najbardziej optymalne wartości parametrów criterion,  max_depth oraz min_samples_leaf."
      ],
      "metadata": {
        "id": "AJXJ2N8YaYkK"
      }
    },
    {
      "cell_type": "code",
      "execution_count": 1,
      "metadata": {
        "id": "xTGw74RBaVDU"
      },
      "outputs": [],
      "source": [
        "import numpy as np\n",
        "import pandas as pd\n",
        "\n",
        "from sklearn.datasets import make_moons\n",
        "from sklearn.model_selection import train_test_split\n",
        "from sklearn.ensemble import RandomForestClassifier\n",
        "from sklearn.model_selection import GridSearchCV\n",
        "\n",
        "\n",
        "np.random.seed(42)\n",
        "raw_data = make_moons(n_samples=2000, noise=0.25, random_state=42)\n",
        "data = raw_data[0]\n",
        "target = raw_data[1]\n",
        "\n",
        "X_train, X_test, y_train, y_test = train_test_split(data, target)"
      ]
    },
    {
      "cell_type": "code",
      "source": [
        "rfc = RandomForestClassifier()"
      ],
      "metadata": {
        "id": "xxjRXJu2aWel"
      },
      "execution_count": 2,
      "outputs": []
    },
    {
      "cell_type": "code",
      "source": [
        "parameters = {\n",
        "    'criterion' : ['gini','entropy'],\n",
        "    'max_depth': [6, 7, 8],\n",
        "    'min_samples_leaf': [4, 5],\n",
        "}"
      ],
      "metadata": {
        "id": "Jak0isdGavC4"
      },
      "execution_count": 3,
      "outputs": []
    },
    {
      "cell_type": "code",
      "source": [
        "grid = GridSearchCV(rfc,parameters,scoring='accuracy',cv=2,n_jobs =-1)#n_jobs =-1 -> wykorzystywane są wszystkie rdzenie !!!!!!!! przyspiesza prace"
      ],
      "metadata": {
        "id": "p3j15sGmbDEp"
      },
      "execution_count": 15,
      "outputs": []
    },
    {
      "cell_type": "code",
      "source": [
        "grid.fit(X_train,y_train)\n",
        "accuracy =grid.score(X_test,y_test)"
      ],
      "metadata": {
        "id": "jPVI3SXpcX2g"
      },
      "execution_count": 16,
      "outputs": []
    },
    {
      "cell_type": "code",
      "source": [
        "print(grid.best_params_)"
      ],
      "metadata": {
        "colab": {
          "base_uri": "https://localhost:8080/"
        },
        "id": "c8l6fF_nchRT",
        "outputId": "7216bf34-0400-4ba9-8a50-e27a2dab45fe"
      },
      "execution_count": 17,
      "outputs": [
        {
          "output_type": "stream",
          "name": "stdout",
          "text": [
            "{'criterion': 'gini', 'max_depth': 8, 'min_samples_leaf': 5}\n"
          ]
        }
      ]
    }
  ]
}