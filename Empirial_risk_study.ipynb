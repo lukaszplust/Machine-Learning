{
  "nbformat": 4,
  "nbformat_minor": 0,
  "metadata": {
    "colab": {
      "provenance": [],
      "authorship_tag": "ABX9TyNzaHeFN/55ixqNo65tSvhS",
      "include_colab_link": true
    },
    "kernelspec": {
      "name": "python3",
      "display_name": "Python 3"
    },
    "language_info": {
      "name": "python"
    }
  },
  "cells": [
    {
      "cell_type": "markdown",
      "metadata": {
        "id": "view-in-github",
        "colab_type": "text"
      },
      "source": [
        "<a href=\"https://colab.research.google.com/github/lukaszplust/Machine-Learning/blob/main/Empirial_risk_study.ipynb\" target=\"_parent\"><img src=\"https://colab.research.google.com/assets/colab-badge.svg\" alt=\"Open In Colab\"/></a>"
      ]
    },
    {
      "cell_type": "code",
      "execution_count": 5,
      "metadata": {
        "colab": {
          "base_uri": "https://localhost:8080/"
        },
        "id": "A5Z9IkeP_JRc",
        "outputId": "a1d3fe7e-baea-4ff1-a0c9-4283f0f49693"
      },
      "outputs": [
        {
          "output_type": "stream",
          "name": "stdout",
          "text": [
            "Ryzyko empiryczne (rozwinięte): 0.6553526425*w1**2 - 0.5775965*w1*w2 - 4.226775*w1 + 0.576625*w2**2 - 2.3815*w2 + 20.6375\n"
          ]
        }
      ],
      "source": [
        "import numpy as np\n",
        "import sympy as sp\n",
        "\n",
        "# Definicja symboli i funkcji f(x, w)\n",
        "x, w1, w2 = sp.symbols('x w1 w2')\n",
        "f = w1 * x**2 + w2 * x\n",
        "\n",
        "# Definicja funkcji obliczającej empiryczne ryzyko\n",
        "def empirical_risk(data):\n",
        "    n = len(data)\n",
        "    error_sum = sum((f.subs(x, xi) - di)**2 for xi, di in data)\n",
        "    return error_sum / n\n",
        "\n",
        "# Podane wartości x i odpowiadające im wartości docelowe d\n",
        "data = [(-1.21, 2.3), (0.10, 3.4), (0.40, 5.1), (0.82, 6.3)]\n",
        "\n",
        "# Obliczenie empirycznego ryzyka\n",
        "risk = empirical_risk(data)\n",
        "\n",
        "# Rozwinięcie wyrażenia empirycznego ryzyka\n",
        "expanded_risk = sp.expand(risk)\n",
        "\n",
        "# Wyświetlenie rozwiniętego wyrażenia\n",
        "print(\"Ryzyko empiryczne (rozwinięte):\", expanded_risk)\n"
      ]
    },
    {
      "cell_type": "code",
      "source": [],
      "metadata": {
        "id": "jRxHzb3__xeP"
      },
      "execution_count": null,
      "outputs": []
    }
  ]
}