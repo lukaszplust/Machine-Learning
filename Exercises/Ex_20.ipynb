{
  "nbformat": 4,
  "nbformat_minor": 0,
  "metadata": {
    "colab": {
      "provenance": []
    },
    "kernelspec": {
      "name": "python3",
      "display_name": "Python 3"
    },
    "language_info": {
      "name": "python"
    }
  },
  "cells": [
    {
      "cell_type": "markdown",
      "source": [
        "Wykorzystując pakiet scikit-learn oraz funkcję train_test_split() podziel dane na zbiór treningowy (data_train, target_train) i testowy (data_test, target_test). Ustal rozmiar zbioru testowego na 30% próbek."
      ],
      "metadata": {
        "id": "vUwmxMd_daqJ"
      }
    },
    {
      "cell_type": "code",
      "execution_count": 8,
      "metadata": {
        "id": "nFpyj_HsdNn2"
      },
      "outputs": [],
      "source": [
        "from sklearn.datasets import load_iris\n",
        "from sklearn.model_selection import train_test_split\n",
        "\n",
        "\n",
        "data_raw = load_iris()\n",
        "data = data_raw['data']\n",
        "target = data_raw['target']"
      ]
    },
    {
      "cell_type": "code",
      "source": [
        "data_train,data_test ,target_train, target_test = train_test_split(data, target, test_size = 0.3)"
      ],
      "metadata": {
        "id": "cDujaBxydOdT"
      },
      "execution_count": 9,
      "outputs": []
    },
    {
      "cell_type": "code",
      "source": [
        "print(f'data_train shape: {data_train.shape}')\n",
        "print(f'target_train shape: {target_train.shape}')\n",
        "print(f'data_test shape: {data_test.shape}')\n",
        "print(f'target_test shape: {target_test.shape}')"
      ],
      "metadata": {
        "colab": {
          "base_uri": "https://localhost:8080/"
        },
        "id": "AI_AH6rGd5RQ",
        "outputId": "7b01045a-a30b-4b1b-d6f4-2b5873e9aa21"
      },
      "execution_count": 10,
      "outputs": [
        {
          "output_type": "stream",
          "name": "stdout",
          "text": [
            "data_train shape: (105, 4)\n",
            "target_train shape: (105,)\n",
            "data_test shape: (45, 4)\n",
            "target_test shape: (45,)\n"
          ]
        }
      ]
    },
    {
      "cell_type": "code",
      "source": [],
      "metadata": {
        "id": "NShOHSrDeccq"
      },
      "execution_count": null,
      "outputs": []
    }
  ]
}