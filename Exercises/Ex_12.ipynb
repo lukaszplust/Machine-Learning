{
  "nbformat": 4,
  "nbformat_minor": 0,
  "metadata": {
    "colab": {
      "provenance": []
    },
    "kernelspec": {
      "name": "python3",
      "display_name": "Python 3"
    },
    "language_info": {
      "name": "python"
    }
  },
  "cells": [
    {
      "cell_type": "markdown",
      "source": [
        "Do obiektu df przypisz nową kolumnę o nazwie 'number', która przyjmie liczbę elementów listy w kolumnie currency. W odpowiedzi wydrukuj obiekt DataFrame do konsoli."
      ],
      "metadata": {
        "id": "7hJ-JNMEMvY7"
      }
    },
    {
      "cell_type": "code",
      "execution_count": 1,
      "metadata": {
        "id": "1_XILbRDMr69"
      },
      "outputs": [],
      "source": [
        "import pandas as pd\n",
        "\n",
        "\n",
        "data_dict = {\n",
        "    'currency': [\n",
        "        ['PLN', 'USD'],\n",
        "        ['EUR', 'USD', 'PLN', 'CAD'],\n",
        "        ['GBP'],\n",
        "        ['JPY', 'CZK', 'HUF'],\n",
        "        [],\n",
        "    ]\n",
        "}\n",
        "df = pd.DataFrame(data=data_dict)"
      ]
    },
    {
      "cell_type": "code",
      "source": [
        "df['number'] = df['currency'].apply(len)\n",
        "print(df)"
      ],
      "metadata": {
        "colab": {
          "base_uri": "https://localhost:8080/"
        },
        "id": "i65tECJ4MuA5",
        "outputId": "0e2bacd5-6ccf-4a19-cb01-7a683dbde19c"
      },
      "execution_count": 2,
      "outputs": [
        {
          "output_type": "stream",
          "name": "stdout",
          "text": [
            "               currency  number\n",
            "0            [PLN, USD]       2\n",
            "1  [EUR, USD, PLN, CAD]       4\n",
            "2                 [GBP]       1\n",
            "3       [JPY, CZK, HUF]       3\n",
            "4                    []       0\n"
          ]
        }
      ]
    },
    {
      "cell_type": "code",
      "source": [],
      "metadata": {
        "id": "CIHZmkWfNpAF"
      },
      "execution_count": null,
      "outputs": []
    }
  ]
}